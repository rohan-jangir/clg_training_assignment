{
 "cells": [
  {
   "cell_type": "code",
   "execution_count": 97,
   "id": "1f493fc3-927a-4e52-b134-cbe4c4c1c8c4",
   "metadata": {},
   "outputs": [],
   "source": [
    "# import the numpy liabrary as np\n",
    "\n",
    "import numpy as np"
   ]
  },
  {
   "cell_type": "code",
   "execution_count": 98,
   "id": "4f8fd663-dc24-4989-9c75-125122a80747",
   "metadata": {},
   "outputs": [],
   "source": [
    "# create a numpy arrage where range is 12*5 matrix which is 60\n",
    "\n",
    "matrix = np.arange(1,61).reshape(12,5)"
   ]
  },
  {
   "cell_type": "code",
   "execution_count": 99,
   "id": "6ff248a3-fa6d-4037-a514-be7f695794bd",
   "metadata": {},
   "outputs": [
    {
     "name": "stdout",
     "output_type": "stream",
     "text": [
      "58.0\n"
     ]
    }
   ],
   "source": [
    "# find average value using user define function\n",
    "\n",
    "def average(avg):\n",
    "    avg = sum(avg)/len(avg)\n",
    "    print(avg)\n",
    "\n",
    "average(matrix[-1])"
   ]
  },
  {
   "cell_type": "code",
   "execution_count": 100,
   "id": "ec7b3a76-7efa-46bc-98ff-543bf355d602",
   "metadata": {},
   "outputs": [
    {
     "data": {
      "text/plain": [
       "56"
      ]
     },
     "execution_count": 100,
     "metadata": {},
     "output_type": "execute_result"
    }
   ],
   "source": [
    "# find minimum value using user define function  \n",
    "\n",
    "def minimum(min):\n",
    "    for i in min:\n",
    "        min_val = min[0]\n",
    "        if i<min_val:\n",
    "            min_val = i\n",
    "    return min_val\n",
    "\n",
    "minimum(matrix[-1])"
   ]
  },
  {
   "cell_type": "code",
   "execution_count": 101,
   "id": "608a80ce-9680-46f4-ac07-558f4e7a0450",
   "metadata": {},
   "outputs": [
    {
     "data": {
      "text/plain": [
       "60"
      ]
     },
     "execution_count": 101,
     "metadata": {},
     "output_type": "execute_result"
    }
   ],
   "source": [
    "#  find maximum value using user define function\n",
    "\n",
    "def maximum(max):\n",
    "    for i in max:\n",
    "        max_val = max[0]\n",
    "        if i>max_val:\n",
    "            max_val=i\n",
    "    return max_val\n",
    "\n",
    "maximum(matrix[-1])"
   ]
  },
  {
   "cell_type": "code",
   "execution_count": 102,
   "id": "7907e35a-e93a-418f-b589-74f1de3f0ac8",
   "metadata": {},
   "outputs": [
    {
     "name": "stdout",
     "output_type": "stream",
     "text": [
      "56\n",
      "58\n",
      "60\n"
     ]
    }
   ],
   "source": [
    "#  find even values present in the last row using user define function\n",
    "\n",
    "def evens(even):\n",
    "    for i in even:\n",
    "        if i%2==0:\n",
    "            print(i)\n",
    "\n",
    "evens(matrix[-1])"
   ]
  }
 ],
 "metadata": {
  "kernelspec": {
   "display_name": "Python 3 (ipykernel)",
   "language": "python",
   "name": "python3"
  },
  "language_info": {
   "codemirror_mode": {
    "name": "ipython",
    "version": 3
   },
   "file_extension": ".py",
   "mimetype": "text/x-python",
   "name": "python",
   "nbconvert_exporter": "python",
   "pygments_lexer": "ipython3",
   "version": "3.11.5"
  }
 },
 "nbformat": 4,
 "nbformat_minor": 5
}
