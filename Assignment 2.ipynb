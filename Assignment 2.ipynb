{
 "cells": [
  {
   "cell_type": "markdown",
   "id": "eb414a7a-2e96-48bf-a1e5-f40974ed65b9",
   "metadata": {},
   "source": [
    "# Q. 1.  Write a Python method in Oop called “calculate_area” that takes the radius of a circle as input and returns the area of the circle, write program using Oop"
   ]
  },
  {
   "cell_type": "code",
   "execution_count": 2,
   "id": "ca93548a-870b-4c90-87e8-bb2546838f25",
   "metadata": {},
   "outputs": [
    {
     "name": "stdin",
     "output_type": "stream",
     "text": [
      "Enter your radius value:   7\n"
     ]
    },
    {
     "name": "stdout",
     "output_type": "stream",
     "text": [
      "The area of the circle for 7 radius is: 153.93804002589985\n"
     ]
    }
   ],
   "source": [
    "class Circle:\n",
    "    pi = 3.141592653589793  # fix value of pie.\n",
    "\n",
    "    def __init__(self, radius):\n",
    "        self.radius = radius\n",
    "\n",
    "    def calculate_area(self):\n",
    "        return Circle.pi * (self.radius ** 2)\n",
    "\n",
    "rad = float(input('Enter your radius value:  '))\n",
    "obj = Circle(rad)\n",
    "print(f\"The area of the circle for {obj.radius} radius is: {obj.calculate_area()}\")\n"
   ]
  },
  {
   "cell_type": "markdown",
   "id": "8a4bc1e1-b9d2-47a6-8205-039b2a46a77e",
   "metadata": {},
   "source": [
    "# Q. 2.  Write a Python method in Oop called “calculate_discount” that calculates the final price of an item after applying a discount percentage. The function should take the original price and the discount percentage as inputs."
   ]
  },
  {
   "cell_type": "code",
   "execution_count": 8,
   "id": "2c8b0cb9-30a9-405b-9c9c-26ce80d14bb3",
   "metadata": {},
   "outputs": [
    {
     "name": "stdin",
     "output_type": "stream",
     "text": [
      "What is your original price:   30\n",
      "How many discount you are:   5\n"
     ]
    },
    {
     "name": "stdout",
     "output_type": "stream",
     "text": [
      "The final price after applying the discount is: 28.50\n"
     ]
    }
   ],
   "source": [
    "class Product:\n",
    "    def __init__(self, price):\n",
    "        self.price = price\n",
    "\n",
    "    def calculate_discount(self, discount_percentage):\n",
    "        final_price = self.price * (1 - discount_percentage / 100)\n",
    "        return final_price\n",
    "\n",
    "#take the original price for our product\n",
    "original_price = float(input('What is your original price:  '))\n",
    "product = Product(original_price) \n",
    "\n",
    "# take the discount value from user\n",
    "discount = float(input('How many discount you are:  '))\n",
    "final_price = product.calculate_discount(discount)\n",
    "\n",
    "# final price after discount\n",
    "print(f\"The final price after applying the discount is: {final_price:.2f}\")\n"
   ]
  },
  {
   "cell_type": "markdown",
   "id": "5c6ef167-6196-41d4-8d97-e84d3b269596",
   "metadata": {},
   "source": [
    "# Q. 3. Write a method in Oop named “count_vowels” that takes a string as input and returns the count of vowels (both uppercase and lowercase) in the string."
   ]
  },
  {
   "cell_type": "code",
   "execution_count": 13,
   "id": "e0c70195-4526-4bf7-ac25-583de0935fa2",
   "metadata": {},
   "outputs": [
    {
     "name": "stdin",
     "output_type": "stream",
     "text": [
      "Enter your sentence:   Rohan Jangir\n"
     ]
    },
    {
     "name": "stdout",
     "output_type": "stream",
     "text": [
      "The number of vowels in the sentence is: 4\n"
     ]
    }
   ],
   "source": [
    "class VowelCount:\n",
    "    def count_vowels(self, sentence):\n",
    "        count = 0\n",
    "        for char in input_string:\n",
    "            if char.lower() in 'aeiou':\n",
    "                count += 1\n",
    "        return count\n",
    "\n",
    "#call the vowelscounter class\n",
    "vowel_counter = VowelCounter()\n",
    "\n",
    "# Take the sentence from user\n",
    "vowels = input('Enter your sentence:  ')\n",
    "vowel_count = vowel_counter.count_vowels(vowels)\n",
    "\n",
    "#print the count vowels\n",
    "print(f\"The number of vowels in the sentence is: {vowel_count}\")\n"
   ]
  }
 ],
 "metadata": {
  "kernelspec": {
   "display_name": "Python 3 (ipykernel)",
   "language": "python",
   "name": "python3"
  },
  "language_info": {
   "codemirror_mode": {
    "name": "ipython",
    "version": 3
   },
   "file_extension": ".py",
   "mimetype": "text/x-python",
   "name": "python",
   "nbconvert_exporter": "python",
   "pygments_lexer": "ipython3",
   "version": "3.11.5"
  }
 },
 "nbformat": 4,
 "nbformat_minor": 5
}
