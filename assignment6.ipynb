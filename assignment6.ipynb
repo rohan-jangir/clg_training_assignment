{
 "cells": [
  {
   "cell_type": "markdown",
   "id": "73fb032c-74f9-456c-a047-0946e356e42e",
   "metadata": {},
   "source": [
    "### Q.1. Given an array a = np.array([10, 20, 30, 40, 50]) and an index array i = np.array([0, 1, 3]), use fancy indexing to extract elements and assign new values to them."
   ]
  },
  {
   "cell_type": "code",
   "execution_count": null,
   "id": "c8fca103-b929-4925-8d45-266aa023b58a",
   "metadata": {},
   "outputs": [],
   "source": [
    "import numpy as np"
   ]
  },
  {
   "cell_type": "code",
   "execution_count": 35,
   "id": "6c58b3ae-6235-4d93-8e9c-a25a8facab4e",
   "metadata": {},
   "outputs": [
    {
     "name": "stdout",
     "output_type": "stream",
     "text": [
      "a of 0: 10\n",
      "a of 1: 20\n",
      "a of 3: 40\n",
      "\n",
      " new array: [ 3 60 30 70 50]\n"
     ]
    }
   ],
   "source": [
    "a = np.array([10, 20, 30, 40, 50]) \n",
    "\n",
    "# access diffrent place values using silicing method\n",
    "print(\"a of 0:\", a[0])\n",
    "print(\"a of 1:\",a[1])\n",
    "print(\"a of 3:\",a[3])\n",
    "\n",
    "# assign random values at 0,1,3 position\n",
    "a[0] = 3\n",
    "a[1] = 60\n",
    "a[3] = 70\n",
    "\n",
    "print(\"\\n new array:\",a)"
   ]
  },
  {
   "cell_type": "markdown",
   "id": "ecd051e0-0042-4dc6-a9ec-f6c7cfd4ea58",
   "metadata": {},
   "source": [
    "### Q. 2. Create a 4x4 matrix and compute the sum of all elements, the sum of each column, and the sum of each row."
   ]
  },
  {
   "cell_type": "code",
   "execution_count": 95,
   "id": "15990a99-3831-4568-a2dd-5026568943c7",
   "metadata": {},
   "outputs": [],
   "source": [
    "arr0 = np.arange(16)\n",
    "arr = arr0.reshape(4,4)"
   ]
  },
  {
   "cell_type": "code",
   "execution_count": 110,
   "id": "8feb1fd3-6dcc-4935-a22e-0e22b888743f",
   "metadata": {},
   "outputs": [
    {
     "name": "stdout",
     "output_type": "stream",
     "text": [
      "120\n"
     ]
    }
   ],
   "source": [
    "# addition of all eliment of the matrix\n",
    "\n",
    "def add(sum):\n",
    "    add = 0\n",
    "    for i in sum:\n",
    "        for j in i:\n",
    "            add = add+j\n",
    "    print(add)\n",
    "\n",
    "add(arr)"
   ]
  },
  {
   "cell_type": "code",
   "execution_count": 163,
   "id": "d54977ca-958c-4eb3-bf22-91fdc777e327",
   "metadata": {},
   "outputs": [
    {
     "name": "stdout",
     "output_type": "stream",
     "text": [
      "addition of [0 1 2 3] is: 6\n",
      "addition of [4 5 6 7] is: 28\n",
      "addition of [ 8  9 10 11] is: 66\n",
      "addition of [12 13 14 15] is: 120\n"
     ]
    }
   ],
   "source": [
    "# addition of each row elements of the matrix\n",
    "\n",
    "def each_row(val):\n",
    "    add = 0\n",
    "    for i in val:\n",
    "        for j in i:\n",
    "            add = add+j\n",
    "        print(f\"addition of {i} is:\",add)\n",
    "each_row(arr)"
   ]
  },
  {
   "cell_type": "code",
   "execution_count": 177,
   "id": "c665c506-db81-4f2b-b91e-7d2a028a8462",
   "metadata": {},
   "outputs": [
    {
     "name": "stdout",
     "output_type": "stream",
     "text": [
      "addition of [[ 0]\n",
      " [ 4]\n",
      " [ 8]\n",
      " [12]] is: [24]\n",
      "addition of [[ 1]\n",
      " [ 5]\n",
      " [ 9]\n",
      " [13]] is: [52]\n",
      "addition of [[ 2]\n",
      " [ 6]\n",
      " [10]\n",
      " [14]] is: [84]\n",
      "addition of [[ 3]\n",
      " [ 7]\n",
      " [11]\n",
      " [15]] is: [120]\n"
     ]
    }
   ],
   "source": [
    "# addition of each column elements of the matrix\n",
    "\n",
    "def each_col(val):\n",
    "    s = 1\n",
    "    add = 0\n",
    "    for i in range(len(val[0])):\n",
    "        d = arr[:,i:s]\n",
    "        for j in d:\n",
    "            add = add+j\n",
    "        print(f\"addition of {d} is:\",add)  \n",
    "        s = s+1\n",
    "    \n",
    "each_col(arr)"
   ]
  },
  {
   "cell_type": "markdown",
   "id": "859125ea-feb9-4f8a-a1e4-e9abe88e5755",
   "metadata": {},
   "source": [
    "### Q. 3. Given a 3-D array of shape (3, 4, 5), slice out a sub-array that contains the last two rows and columns of the last two matrices."
   ]
  },
  {
   "cell_type": "code",
   "execution_count": 186,
   "id": "013acc38-a01e-482c-aafe-90ce466523f0",
   "metadata": {},
   "outputs": [
    {
     "name": "stdout",
     "output_type": "stream",
     "text": [
      "[[[ 0  1  2  3  4]\n",
      "  [ 5  6  7  8  9]\n",
      "  [10 11 12 13 14]\n",
      "  [15 16 17 18 19]]\n",
      "\n",
      " [[20 21 22 23 24]\n",
      "  [25 26 27 28 29]\n",
      "  [30 31 32 33 34]\n",
      "  [35 36 37 38 39]]\n",
      "\n",
      " [[40 41 42 43 44]\n",
      "  [45 46 47 48 49]\n",
      "  [50 51 52 53 54]\n",
      "  [55 56 57 58 59]]]\n"
     ]
    }
   ],
   "source": [
    "a = np.arange(60)\n",
    "arr = a.reshape(3,4,5)\n",
    "print(arr)"
   ]
  },
  {
   "cell_type": "code",
   "execution_count": 248,
   "id": "4284a891-25db-4cf1-840d-03f5d888fb7b",
   "metadata": {},
   "outputs": [
    {
     "name": "stdout",
     "output_type": "stream",
     "text": [
      "second last two row of last matrix:  \n",
      " [35 36 37 38 39] \n",
      " [30 31 32 33 34] \n",
      "\n",
      "last two row of last matrix: \n",
      " [55 56 57 58 59] \n",
      " [50 51 52 53 54] \n",
      "\n"
     ]
    }
   ],
   "source": [
    "# last two rows of the last two matrix\n",
    "\n",
    "print(\"second last two row of last matrix: \",\"\\n\",arr[1,-1],\"\\n\",arr[1,-2],\"\\n\")\n",
    "print(\"last two row of last matrix: \\n\",arr[-1,-1],\"\\n\",arr[-1,-2],\"\\n\")"
   ]
  },
  {
   "cell_type": "code",
   "execution_count": 249,
   "id": "849823e1-900f-4d5f-8ade-0f23c6ac5690",
   "metadata": {},
   "outputs": [
    {
     "name": "stdout",
     "output_type": "stream",
     "text": [
      "second last two row of last matrix: \n",
      " [[24]\n",
      " [29]\n",
      " [34]\n",
      " [39]] \n",
      "\n",
      " [[23]\n",
      " [28]\n",
      " [33]\n",
      " [38]]\n",
      "\n",
      "last two row of last matrix: \n",
      " [[44]\n",
      " [49]\n",
      " [54]\n",
      " [59]] \n",
      "\n",
      " [[43]\n",
      " [48]\n",
      " [53]\n",
      " [58]]\n"
     ]
    }
   ],
   "source": [
    "# # last two columns of the last two matrix\n",
    "\n",
    "print(\"second last two row of last matrix: \\n\",arr[1][:,-1:],\"\\n\\n\",arr[-2][:,-2:-1])\n",
    "print(\"\\nlast two row of last matrix: \\n\",arr[-1][:,-1:],\"\\n\\n\",arr[-1][:,-2:-1])"
   ]
  }
 ],
 "metadata": {
  "kernelspec": {
   "display_name": "Python 3 (ipykernel)",
   "language": "python",
   "name": "python3"
  },
  "language_info": {
   "codemirror_mode": {
    "name": "ipython",
    "version": 3
   },
   "file_extension": ".py",
   "mimetype": "text/x-python",
   "name": "python",
   "nbconvert_exporter": "python",
   "pygments_lexer": "ipython3",
   "version": "3.12.1"
  }
 },
 "nbformat": 4,
 "nbformat_minor": 5
}
